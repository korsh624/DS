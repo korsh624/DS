{
  "nbformat": 4,
  "nbformat_minor": 0,
  "metadata": {
    "colab": {
      "provenance": []
    },
    "kernelspec": {
      "name": "python3",
      "display_name": "Python 3"
    },
    "language_info": {
      "name": "python"
    }
  },
  "cells": [
    {
      "cell_type": "markdown",
      "source": [
        "Домашка по Python"
      ],
      "metadata": {
        "id": "EfgPNZ3h3qrw"
      }
    },
    {
      "cell_type": "code",
      "source": [
        "#Напишите программу, которая будет выводить на экран площадь квадрата и его периметр. Сторона квадрата будет равна 25\n",
        "print(25*25)"
      ],
      "metadata": {
        "colab": {
          "base_uri": "https://localhost:8080/"
        },
        "id": "93KAU3pe3nfz",
        "outputId": "2c7efc4a-47c1-47d0-ef8e-bf301524c533"
      },
      "execution_count": null,
      "outputs": [
        {
          "output_type": "stream",
          "name": "stdout",
          "text": [
            "625\n"
          ]
        }
      ]
    },
    {
      "cell_type": "code",
      "source": [
        "#Напишите функцию, которая будет принимать два числа и считать сумму квадратов этих двух чисел, запишите своё вычисление в переменную squared.\n",
        "def sq(a:int, b:int) -> int:\n",
        "  c=a*a+b*b\n",
        "  return c\n",
        "squared=sq(10,5)\n",
        "print(squared)"
      ],
      "metadata": {
        "colab": {
          "base_uri": "https://localhost:8080/"
        },
        "id": "4PdNhPdx35yz",
        "outputId": "1f4fc55d-855a-49d0-f26f-47758c19b0c2"
      },
      "execution_count": null,
      "outputs": [
        {
          "output_type": "stream",
          "name": "stdout",
          "text": [
            "125\n"
          ]
        }
      ]
    },
    {
      "cell_type": "code",
      "source": [
        "#Напишите функцию, которая будет принимать на вход список  [“male“,“male“,“female“,“male“,“male“,“female“,”female“] и возвращать его в обратном порядке. Запишите список в переменную new_list.\n",
        "def rev(l:list) -> list:\n",
        "  l=l[::-1]\n",
        "  return l\n",
        "\n",
        "new_list=rev(['male','male','female','male','male','female','female'])\n",
        "print(new_list)\n"
      ],
      "metadata": {
        "colab": {
          "base_uri": "https://localhost:8080/"
        },
        "id": "e3pw8tkk4pFq",
        "outputId": "79ce429c-d4bd-4f58-cb5e-ea69ca480190"
      },
      "execution_count": null,
      "outputs": [
        {
          "output_type": "stream",
          "name": "stdout",
          "text": [
            "['female', 'female', 'male', 'male', 'female', 'male', 'male']\n"
          ]
        }
      ]
    },
    {
      "cell_type": "code",
      "source": [
        "#Напишите функцию, которая будет принимать на вход список (new_list) и идти по нему в цикле. На выходе функция должна вывести на экран: Кол-во мужчин 4, Кол-во женщин 3.\n",
        "def count(l:list) -> None:\n",
        "  m=0\n",
        "  f=0\n",
        "  for i in l:\n",
        "    if i=='female':\n",
        "      f+=1\n",
        "    else:\n",
        "      m+=1\n",
        "  print(f'Кол-во мужчин {m}, Кол-во женщин {f}')\n",
        "count(new_list)"
      ],
      "metadata": {
        "colab": {
          "base_uri": "https://localhost:8080/"
        },
        "id": "Ga8e2AiD6ASd",
        "outputId": "ddb18649-5dd0-4afe-87ec-9cda0db78777"
      },
      "execution_count": null,
      "outputs": [
        {
          "output_type": "stream",
          "name": "stdout",
          "text": [
            "Кол-во мужчин 4, Кол-во женщин 3\n"
          ]
        }
      ]
    },
    {
      "cell_type": "code",
      "source": [
        "#Напишите функцию, которая будет принимать строку (Например: “female”), а возвращать словарь где ключи — это символы строки, а значения кол-во символов в строке.\n",
        "def dgenerate(word:str) -> dict:\n",
        "  c=len(word)\n",
        "  d={word:c}\n",
        "  return d\n",
        "dic = dgenerate('female')\n",
        "print (dic)"
      ],
      "metadata": {
        "colab": {
          "base_uri": "https://localhost:8080/"
        },
        "id": "4smHuKPk7RmG",
        "outputId": "dd0845fd-2613-47e4-a75b-412a6642f656"
      },
      "execution_count": null,
      "outputs": [
        {
          "output_type": "stream",
          "name": "stdout",
          "text": [
            "{'female': 6}\n"
          ]
        }
      ]
    },
    {
      "cell_type": "code",
      "source": [
        "#Воспользуйтесь функцией range в Python и выведите на экран сумму квадратов от 1 до 100 (включительно).\n",
        "squares = sum(x**2 for x in range(1, 101))\n",
        "\n",
        "print(squares)"
      ],
      "metadata": {
        "colab": {
          "base_uri": "https://localhost:8080/"
        },
        "id": "9sRyOTEc8uwE",
        "outputId": "68afadc8-5a9c-4307-ec4e-1b9730db799f"
      },
      "execution_count": null,
      "outputs": [
        {
          "output_type": "stream",
          "name": "stdout",
          "text": [
            "338350\n"
          ]
        }
      ]
    },
    {
      "cell_type": "code",
      "source": [
        "#Укажите какой метод добавит значение в конец списка. Приведите пример.\n",
        "my_list = [1, 2, 3]\n",
        "my_list.append(4)\n",
        "\n",
        "print(my_list)"
      ],
      "metadata": {
        "id": "WbGD0fKm9BUt"
      },
      "execution_count": null,
      "outputs": []
    },
    {
      "cell_type": "code",
      "source": [
        "#Как объединить два списка \"a\" и \"b\" в один новый список \"c\"? Приведите пример.\n",
        "a = [1, 2, 3]\n",
        "b = [4, 5, 6]\n",
        "c = a + b\n",
        "print(c)"
      ],
      "metadata": {
        "colab": {
          "base_uri": "https://localhost:8080/"
        },
        "id": "F1xyJItw9Ke1",
        "outputId": "74dfdb9a-65df-47e6-9cef-210466090f82"
      },
      "execution_count": null,
      "outputs": [
        {
          "output_type": "stream",
          "name": "stdout",
          "text": [
            "[1, 2, 3, 4, 5, 6]\n"
          ]
        }
      ]
    },
    {
      "cell_type": "code",
      "source": [
        "#Укажите какой метод посчитает количество значений в списке. Приведите пример.\n",
        "my_list = [1, 2, 3, 4, 5, 2, 3, 2]\n",
        "count_of_twos = my_list.count(2)\n",
        "print(count_of_twos)"
      ],
      "metadata": {
        "colab": {
          "base_uri": "https://localhost:8080/"
        },
        "id": "ODPXjIS89RCF",
        "outputId": "c3999344-91d2-40fc-e474-acd581afcc4d"
      },
      "execution_count": null,
      "outputs": [
        {
          "output_type": "stream",
          "name": "stdout",
          "text": [
            "3\n"
          ]
        }
      ]
    },
    {
      "cell_type": "code",
      "source": [
        "#Исправьте следующий код, так чтобы он отрабатывал правильно\n",
        "x = 2**4\n",
        "y = 4**2\n",
        "if x < y:\n",
        "  print(\"x меньше y\")\n",
        "else:\n",
        "  print(\"x больше, либо равен y\")\n"
      ],
      "metadata": {
        "colab": {
          "base_uri": "https://localhost:8080/"
        },
        "id": "H9PdHVQt93ze",
        "outputId": "ca647780-0691-4074-b3ca-2bab3180be3a"
      },
      "execution_count": null,
      "outputs": [
        {
          "output_type": "stream",
          "name": "stdout",
          "text": [
            "x больше, либо равен y\n"
          ]
        }
      ]
    }
  ]
}