{
 "cells": [
  {
   "cell_type": "code",
   "execution_count": 1,
   "metadata": {},
   "outputs": [],
   "source": [
    "import tensorflow as tf\n",
    "import numpy as np\n",
    "from keras.datasets import mnist, cifar10\n",
    "from keras.models import Sequential\n",
    "from keras.layers import Dense, Flatten, Conv2D, MaxPooling2D, Rescaling"
   ]
  },
  {
   "cell_type": "code",
   "execution_count": 2,
   "metadata": {},
   "outputs": [],
   "source": [
    "# Загрузка данных MNIST\n",
    "(x_train, y_train), (x_test, y_test) = mnist.load_data()\n",
    "\n",
    "# Нормализация данных\n",
    "x_train = x_train / 255.0\n",
    "x_test = x_test / 255.0"
   ]
  },
  {
   "cell_type": "code",
   "execution_count": 10,
   "metadata": {},
   "outputs": [
    {
     "data": {
      "text/plain": [
       "(60000, 28, 28)"
      ]
     },
     "execution_count": 10,
     "metadata": {},
     "output_type": "execute_result"
    }
   ],
   "source": [
    "x_train.shape"
   ]
  },
  {
   "cell_type": "code",
   "execution_count": 20,
   "metadata": {},
   "outputs": [
    {
     "data": {
      "text/plain": [
       "(60000, 28, 28)"
      ]
     },
     "execution_count": 20,
     "metadata": {},
     "output_type": "execute_result"
    }
   ],
   "source": [
    "x_train.shape"
   ]
  },
  {
   "cell_type": "code",
   "execution_count": 21,
   "metadata": {},
   "outputs": [
    {
     "name": "stdout",
     "output_type": "stream",
     "text": [
      "Epoch 1/10\n",
      "1875/1875 [==============================] - 2s 735us/step - loss: 0.4364 - accuracy: 0.8796 - val_loss: 0.2690 - val_accuracy: 0.9247\n",
      "Epoch 2/10\n",
      "1875/1875 [==============================] - 1s 656us/step - loss: 0.2548 - accuracy: 0.9273 - val_loss: 0.2350 - val_accuracy: 0.9318\n",
      "Epoch 3/10\n",
      "1875/1875 [==============================] - 1s 647us/step - loss: 0.2219 - accuracy: 0.9366 - val_loss: 0.2143 - val_accuracy: 0.9378\n",
      "Epoch 4/10\n",
      "1875/1875 [==============================] - 1s 647us/step - loss: 0.2035 - accuracy: 0.9417 - val_loss: 0.2103 - val_accuracy: 0.9386\n",
      "Epoch 5/10\n",
      "1875/1875 [==============================] - 1s 641us/step - loss: 0.1892 - accuracy: 0.9455 - val_loss: 0.1999 - val_accuracy: 0.9437\n",
      "Epoch 6/10\n",
      "1875/1875 [==============================] - 1s 657us/step - loss: 0.1800 - accuracy: 0.9483 - val_loss: 0.2023 - val_accuracy: 0.9377\n",
      "Epoch 7/10\n",
      "1875/1875 [==============================] - 1s 651us/step - loss: 0.1719 - accuracy: 0.9506 - val_loss: 0.1905 - val_accuracy: 0.9455\n",
      "Epoch 8/10\n",
      "1875/1875 [==============================] - 1s 645us/step - loss: 0.1661 - accuracy: 0.9518 - val_loss: 0.1928 - val_accuracy: 0.9455\n",
      "Epoch 9/10\n",
      "1875/1875 [==============================] - 1s 653us/step - loss: 0.1601 - accuracy: 0.9534 - val_loss: 0.1920 - val_accuracy: 0.9438\n",
      "Epoch 10/10\n",
      "1875/1875 [==============================] - 1s 651us/step - loss: 0.1557 - accuracy: 0.9553 - val_loss: 0.1825 - val_accuracy: 0.9485\n",
      "313/313 [==============================] - 0s 518us/step - loss: 0.1825 - accuracy: 0.9485\n",
      "Test accuracy: 0.9484999775886536\n"
     ]
    }
   ],
   "source": [
    "# Создание модели\n",
    "model = Sequential()\n",
    "model.add(Flatten(input_shape=(28, 28))) # ---> приводит к размеру (кол-во наблюдений, 28*28)\n",
    "model.add(Dense(16, activation='relu'))\n",
    "model.add(Dense(10, activation='softmax'))\n",
    "\n",
    "# Компиляция модели\n",
    "model.compile(optimizer='adam',\n",
    "              loss='sparse_categorical_crossentropy',\n",
    "              metrics=['accuracy'])\n",
    "\n",
    "# Обучение модели\n",
    "model.fit(x_train, y_train, epochs=10, batch_size=32, validation_data=(x_test, y_test))\n",
    "\n",
    "# Оценка модели на тестовых данных\n",
    "test_loss, test_acc = model.evaluate(x_test, y_test)\n",
    "print('Test accuracy:', test_acc)"
   ]
  },
  {
   "cell_type": "code",
   "execution_count": 23,
   "metadata": {},
   "outputs": [
    {
     "name": "stdout",
     "output_type": "stream",
     "text": [
      "313/313 [==============================] - 0s 445us/step\n"
     ]
    }
   ],
   "source": [
    "preds = model.predict(x_test)"
   ]
  },
  {
   "cell_type": "code",
   "execution_count": 26,
   "metadata": {},
   "outputs": [],
   "source": [
    "import pandas as pd"
   ]
  },
  {
   "cell_type": "code",
   "execution_count": 30,
   "metadata": {},
   "outputs": [
    {
     "data": {
      "text/html": [
       "<div>\n",
       "<style scoped>\n",
       "    .dataframe tbody tr th:only-of-type {\n",
       "        vertical-align: middle;\n",
       "    }\n",
       "\n",
       "    .dataframe tbody tr th {\n",
       "        vertical-align: top;\n",
       "    }\n",
       "\n",
       "    .dataframe thead th {\n",
       "        text-align: right;\n",
       "    }\n",
       "</style>\n",
       "<table border=\"1\" class=\"dataframe\">\n",
       "  <thead>\n",
       "    <tr style=\"text-align: right;\">\n",
       "      <th></th>\n",
       "      <th>0</th>\n",
       "      <th>1</th>\n",
       "      <th>2</th>\n",
       "      <th>3</th>\n",
       "      <th>4</th>\n",
       "      <th>5</th>\n",
       "      <th>6</th>\n",
       "      <th>7</th>\n",
       "      <th>8</th>\n",
       "      <th>9</th>\n",
       "    </tr>\n",
       "  </thead>\n",
       "  <tbody>\n",
       "    <tr>\n",
       "      <th>0</th>\n",
       "      <td>5.221459e-05</td>\n",
       "      <td>2.166936e-09</td>\n",
       "      <td>1.986679e-03</td>\n",
       "      <td>3.682407e-03</td>\n",
       "      <td>2.572530e-09</td>\n",
       "      <td>5.683178e-07</td>\n",
       "      <td>2.384212e-16</td>\n",
       "      <td>9.940513e-01</td>\n",
       "      <td>2.735760e-06</td>\n",
       "      <td>2.241146e-04</td>\n",
       "    </tr>\n",
       "    <tr>\n",
       "      <th>1</th>\n",
       "      <td>3.305659e-06</td>\n",
       "      <td>3.220099e-05</td>\n",
       "      <td>9.922105e-01</td>\n",
       "      <td>1.512580e-03</td>\n",
       "      <td>9.167776e-22</td>\n",
       "      <td>6.237505e-03</td>\n",
       "      <td>6.306960e-08</td>\n",
       "      <td>2.323986e-17</td>\n",
       "      <td>3.737566e-06</td>\n",
       "      <td>5.495799e-14</td>\n",
       "    </tr>\n",
       "    <tr>\n",
       "      <th>2</th>\n",
       "      <td>2.885178e-06</td>\n",
       "      <td>9.959753e-01</td>\n",
       "      <td>1.966100e-03</td>\n",
       "      <td>3.412614e-04</td>\n",
       "      <td>1.263031e-05</td>\n",
       "      <td>8.023726e-05</td>\n",
       "      <td>1.678073e-04</td>\n",
       "      <td>2.891153e-04</td>\n",
       "      <td>1.050777e-03</td>\n",
       "      <td>1.138282e-04</td>\n",
       "    </tr>\n",
       "    <tr>\n",
       "      <th>3</th>\n",
       "      <td>9.998978e-01</td>\n",
       "      <td>5.973779e-10</td>\n",
       "      <td>9.469541e-05</td>\n",
       "      <td>1.136882e-07</td>\n",
       "      <td>2.819500e-10</td>\n",
       "      <td>3.373604e-07</td>\n",
       "      <td>5.969059e-06</td>\n",
       "      <td>6.142222e-07</td>\n",
       "      <td>4.138281e-09</td>\n",
       "      <td>3.785962e-07</td>\n",
       "    </tr>\n",
       "    <tr>\n",
       "      <th>4</th>\n",
       "      <td>2.532715e-04</td>\n",
       "      <td>9.095383e-11</td>\n",
       "      <td>2.165602e-04</td>\n",
       "      <td>3.354768e-06</td>\n",
       "      <td>9.829947e-01</td>\n",
       "      <td>2.617251e-05</td>\n",
       "      <td>1.216878e-03</td>\n",
       "      <td>4.182303e-05</td>\n",
       "      <td>5.351597e-04</td>\n",
       "      <td>1.471206e-02</td>\n",
       "    </tr>\n",
       "    <tr>\n",
       "      <th>...</th>\n",
       "      <td>...</td>\n",
       "      <td>...</td>\n",
       "      <td>...</td>\n",
       "      <td>...</td>\n",
       "      <td>...</td>\n",
       "      <td>...</td>\n",
       "      <td>...</td>\n",
       "      <td>...</td>\n",
       "      <td>...</td>\n",
       "      <td>...</td>\n",
       "    </tr>\n",
       "    <tr>\n",
       "      <th>9995</th>\n",
       "      <td>1.134907e-12</td>\n",
       "      <td>1.648059e-10</td>\n",
       "      <td>9.983881e-01</td>\n",
       "      <td>1.610763e-03</td>\n",
       "      <td>1.201991e-22</td>\n",
       "      <td>6.841217e-09</td>\n",
       "      <td>5.109774e-19</td>\n",
       "      <td>6.036993e-10</td>\n",
       "      <td>1.175060e-06</td>\n",
       "      <td>1.857479e-13</td>\n",
       "    </tr>\n",
       "    <tr>\n",
       "      <th>9996</th>\n",
       "      <td>5.960206e-08</td>\n",
       "      <td>1.644910e-06</td>\n",
       "      <td>1.380384e-03</td>\n",
       "      <td>9.985482e-01</td>\n",
       "      <td>2.619945e-17</td>\n",
       "      <td>2.236780e-05</td>\n",
       "      <td>6.925768e-17</td>\n",
       "      <td>4.718981e-05</td>\n",
       "      <td>4.607052e-08</td>\n",
       "      <td>1.582910e-08</td>\n",
       "    </tr>\n",
       "    <tr>\n",
       "      <th>9997</th>\n",
       "      <td>1.247177e-09</td>\n",
       "      <td>2.379405e-11</td>\n",
       "      <td>2.122610e-07</td>\n",
       "      <td>3.195794e-07</td>\n",
       "      <td>9.894593e-01</td>\n",
       "      <td>9.112117e-07</td>\n",
       "      <td>5.382059e-09</td>\n",
       "      <td>2.643077e-05</td>\n",
       "      <td>9.300602e-04</td>\n",
       "      <td>9.582690e-03</td>\n",
       "    </tr>\n",
       "    <tr>\n",
       "      <th>9998</th>\n",
       "      <td>1.502595e-05</td>\n",
       "      <td>1.216189e-08</td>\n",
       "      <td>2.951198e-09</td>\n",
       "      <td>2.800948e-08</td>\n",
       "      <td>2.867227e-05</td>\n",
       "      <td>9.967375e-01</td>\n",
       "      <td>5.481093e-08</td>\n",
       "      <td>3.156586e-09</td>\n",
       "      <td>3.208261e-03</td>\n",
       "      <td>1.049784e-05</td>\n",
       "    </tr>\n",
       "    <tr>\n",
       "      <th>9999</th>\n",
       "      <td>2.212443e-07</td>\n",
       "      <td>1.196025e-12</td>\n",
       "      <td>5.772717e-07</td>\n",
       "      <td>6.638402e-11</td>\n",
       "      <td>2.236823e-08</td>\n",
       "      <td>1.018719e-08</td>\n",
       "      <td>9.999992e-01</td>\n",
       "      <td>1.491046e-16</td>\n",
       "      <td>8.667497e-10</td>\n",
       "      <td>4.624356e-11</td>\n",
       "    </tr>\n",
       "  </tbody>\n",
       "</table>\n",
       "<p>10000 rows × 10 columns</p>\n",
       "</div>"
      ],
      "text/plain": [
       "                 0             1             2             3             4  \\\n",
       "0     5.221459e-05  2.166936e-09  1.986679e-03  3.682407e-03  2.572530e-09   \n",
       "1     3.305659e-06  3.220099e-05  9.922105e-01  1.512580e-03  9.167776e-22   \n",
       "2     2.885178e-06  9.959753e-01  1.966100e-03  3.412614e-04  1.263031e-05   \n",
       "3     9.998978e-01  5.973779e-10  9.469541e-05  1.136882e-07  2.819500e-10   \n",
       "4     2.532715e-04  9.095383e-11  2.165602e-04  3.354768e-06  9.829947e-01   \n",
       "...            ...           ...           ...           ...           ...   \n",
       "9995  1.134907e-12  1.648059e-10  9.983881e-01  1.610763e-03  1.201991e-22   \n",
       "9996  5.960206e-08  1.644910e-06  1.380384e-03  9.985482e-01  2.619945e-17   \n",
       "9997  1.247177e-09  2.379405e-11  2.122610e-07  3.195794e-07  9.894593e-01   \n",
       "9998  1.502595e-05  1.216189e-08  2.951198e-09  2.800948e-08  2.867227e-05   \n",
       "9999  2.212443e-07  1.196025e-12  5.772717e-07  6.638402e-11  2.236823e-08   \n",
       "\n",
       "                 5             6             7             8             9  \n",
       "0     5.683178e-07  2.384212e-16  9.940513e-01  2.735760e-06  2.241146e-04  \n",
       "1     6.237505e-03  6.306960e-08  2.323986e-17  3.737566e-06  5.495799e-14  \n",
       "2     8.023726e-05  1.678073e-04  2.891153e-04  1.050777e-03  1.138282e-04  \n",
       "3     3.373604e-07  5.969059e-06  6.142222e-07  4.138281e-09  3.785962e-07  \n",
       "4     2.617251e-05  1.216878e-03  4.182303e-05  5.351597e-04  1.471206e-02  \n",
       "...            ...           ...           ...           ...           ...  \n",
       "9995  6.841217e-09  5.109774e-19  6.036993e-10  1.175060e-06  1.857479e-13  \n",
       "9996  2.236780e-05  6.925768e-17  4.718981e-05  4.607052e-08  1.582910e-08  \n",
       "9997  9.112117e-07  5.382059e-09  2.643077e-05  9.300602e-04  9.582690e-03  \n",
       "9998  9.967375e-01  5.481093e-08  3.156586e-09  3.208261e-03  1.049784e-05  \n",
       "9999  1.018719e-08  9.999992e-01  1.491046e-16  8.667497e-10  4.624356e-11  \n",
       "\n",
       "[10000 rows x 10 columns]"
      ]
     },
     "execution_count": 30,
     "metadata": {},
     "output_type": "execute_result"
    }
   ],
   "source": [
    "pd.DataFrame(preds)"
   ]
  },
  {
   "cell_type": "code",
   "execution_count": 29,
   "metadata": {},
   "outputs": [
    {
     "data": {
      "text/plain": [
       "array([7, 2, 1, ..., 4, 5, 6], dtype=int64)"
      ]
     },
     "execution_count": 29,
     "metadata": {},
     "output_type": "execute_result"
    }
   ],
   "source": [
    "np.argmax(preds, axis=1)"
   ]
  },
  {
   "cell_type": "code",
   "execution_count": 42,
   "metadata": {},
   "outputs": [],
   "source": [
    "# Загрузка данных MNIST\n",
    "(x_train, y_train), (x_test, y_test) = mnist.load_data()\n",
    "\n",
    "# Размерность данных\n",
    "input_shape = (28, 28, 1) \n",
    "\n",
    "# Преобразование данных и нормализация\n",
    "x_train = x_train.reshape(x_train.shape[0], *input_shape) # ---> аналогично x_train.reshape(60000, 28, 28, 1) с одним ЦВЕТОВЫМ ФИЛЬТРОМ\n",
    "x_test = x_test.reshape(x_test.shape[0], *input_shape)\n",
    "x_train = x_train / 255.0\n",
    "x_test = x_test / 255.0"
   ]
  },
  {
   "cell_type": "code",
   "execution_count": 43,
   "metadata": {},
   "outputs": [
    {
     "name": "stdout",
     "output_type": "stream",
     "text": [
      "Epoch 1/10\n",
      "1875/1875 [==============================] - 6s 3ms/step - loss: 0.2068 - accuracy: 0.9398 - val_loss: 0.0915 - val_accuracy: 0.9721\n",
      "Epoch 2/10\n",
      "1875/1875 [==============================] - 6s 3ms/step - loss: 0.0678 - accuracy: 0.9796 - val_loss: 0.0590 - val_accuracy: 0.9817\n",
      "Epoch 3/10\n",
      "1875/1875 [==============================] - 6s 3ms/step - loss: 0.0485 - accuracy: 0.9846 - val_loss: 0.0468 - val_accuracy: 0.9846\n",
      "Epoch 4/10\n",
      "1875/1875 [==============================] - 5s 3ms/step - loss: 0.0394 - accuracy: 0.9873 - val_loss: 0.0416 - val_accuracy: 0.9866\n",
      "Epoch 5/10\n",
      "1875/1875 [==============================] - 6s 3ms/step - loss: 0.0319 - accuracy: 0.9895 - val_loss: 0.0429 - val_accuracy: 0.9878\n",
      "Epoch 6/10\n",
      "1875/1875 [==============================] - 6s 3ms/step - loss: 0.0260 - accuracy: 0.9913 - val_loss: 0.0439 - val_accuracy: 0.9873\n",
      "Epoch 7/10\n",
      "1875/1875 [==============================] - 6s 3ms/step - loss: 0.0207 - accuracy: 0.9932 - val_loss: 0.0481 - val_accuracy: 0.9863\n",
      "Epoch 8/10\n",
      "1875/1875 [==============================] - 6s 3ms/step - loss: 0.0180 - accuracy: 0.9942 - val_loss: 0.0489 - val_accuracy: 0.9862\n",
      "Epoch 9/10\n",
      "1875/1875 [==============================] - 6s 3ms/step - loss: 0.0141 - accuracy: 0.9954 - val_loss: 0.0512 - val_accuracy: 0.9858\n",
      "Epoch 10/10\n",
      "1875/1875 [==============================] - 6s 3ms/step - loss: 0.0125 - accuracy: 0.9957 - val_loss: 0.0620 - val_accuracy: 0.9837\n",
      "313/313 [==============================] - 0s 1ms/step - loss: 0.0620 - accuracy: 0.9837\n",
      "Test accuracy: 0.9836999773979187\n"
     ]
    }
   ],
   "source": [
    "# Создание модели\n",
    "model = Sequential()\n",
    "model.add(Conv2D(32, kernel_size=(4, 4), activation='relu', input_shape=input_shape))\n",
    "model.add(MaxPooling2D(pool_size=(2, 2)))\n",
    "model.add(Flatten())\n",
    "model.add(Dense(16, activation='relu'))\n",
    "model.add(Dense(10, activation='softmax'))\n",
    "\n",
    "# Компиляция модели\n",
    "model.compile(optimizer='adam',\n",
    "              loss='sparse_categorical_crossentropy',\n",
    "              metrics=['accuracy'])\n",
    "\n",
    "# Обучение модели\n",
    "model.fit(x_train, y_train, epochs=10, batch_size=32, validation_data=(x_test, y_test))\n",
    "\n",
    "# Оценка модели на тестовых данных\n",
    "test_loss, test_acc = model.evaluate(x_test, y_test)\n",
    "print('Test accuracy:', test_acc)"
   ]
  },
  {
   "cell_type": "code",
   "execution_count": 44,
   "metadata": {},
   "outputs": [],
   "source": [
    "# Загрузка данных CIFAR-10\n",
    "(x_train, y_train), (x_test, y_test) = cifar10.load_data()\n",
    "\n",
    "# Преобразование и нормализация данных\n",
    "x_train = x_train / 255.0\n",
    "x_test = x_test / 255.0"
   ]
  },
  {
   "cell_type": "code",
   "execution_count": 46,
   "metadata": {},
   "outputs": [
    {
     "name": "stdout",
     "output_type": "stream",
     "text": [
      "Epoch 1/10\n",
      "391/391 [==============================] - 12s 29ms/step - loss: 1.5078 - accuracy: 0.4651 - val_loss: 1.2742 - val_accuracy: 0.5552\n",
      "Epoch 2/10\n",
      "391/391 [==============================] - 11s 29ms/step - loss: 1.1802 - accuracy: 0.5872 - val_loss: 1.1574 - val_accuracy: 0.5879\n",
      "Epoch 3/10\n",
      "391/391 [==============================] - 11s 29ms/step - loss: 1.0673 - accuracy: 0.6250 - val_loss: 1.0998 - val_accuracy: 0.6130\n",
      "Epoch 4/10\n",
      "391/391 [==============================] - 11s 29ms/step - loss: 0.9716 - accuracy: 0.6616 - val_loss: 1.0824 - val_accuracy: 0.6211\n",
      "Epoch 5/10\n",
      "391/391 [==============================] - 11s 29ms/step - loss: 0.8978 - accuracy: 0.6880 - val_loss: 1.0390 - val_accuracy: 0.6368\n",
      "Epoch 6/10\n",
      "391/391 [==============================] - 11s 29ms/step - loss: 0.8300 - accuracy: 0.7112 - val_loss: 1.0181 - val_accuracy: 0.6468\n",
      "Epoch 7/10\n",
      "391/391 [==============================] - 11s 29ms/step - loss: 0.7663 - accuracy: 0.7329 - val_loss: 1.0066 - val_accuracy: 0.6529\n",
      "Epoch 8/10\n",
      "391/391 [==============================] - 11s 29ms/step - loss: 0.7051 - accuracy: 0.7559 - val_loss: 1.0155 - val_accuracy: 0.6517\n",
      "Epoch 9/10\n",
      "391/391 [==============================] - 11s 29ms/step - loss: 0.6462 - accuracy: 0.7749 - val_loss: 1.0100 - val_accuracy: 0.6612\n",
      "Epoch 10/10\n",
      "391/391 [==============================] - 11s 29ms/step - loss: 0.5926 - accuracy: 0.7954 - val_loss: 1.0588 - val_accuracy: 0.6480\n",
      "313/313 [==============================] - 1s 3ms/step - loss: 1.0588 - accuracy: 0.6480\n",
      "Test accuracy: 0.6480000019073486\n"
     ]
    }
   ],
   "source": [
    "# Создание модели\n",
    "model = Sequential()\n",
    "model.add(Conv2D(32, (3, 3), activation='relu', padding='same', input_shape=(32, 32, 3)))\n",
    "model.add(MaxPooling2D(pool_size=(2, 2)))\n",
    "model.add(Flatten())\n",
    "model.add(Dense(256, activation='relu'))\n",
    "model.add(Dense(10, activation='softmax'))\n",
    "\n",
    "# Компиляция модели\n",
    "model.compile(optimizer='adam',\n",
    "              loss='sparse_categorical_crossentropy',\n",
    "              metrics=['accuracy'])\n",
    "\n",
    "# Обучение модели\n",
    "model.fit(x_train, y_train, epochs=10, batch_size=128, validation_data=(x_test, y_test))\n",
    "\n",
    "# Оценка модели на тестовых данных\n",
    "test_loss, test_acc = model.evaluate(x_test, y_test)\n",
    "print('Test accuracy:', test_acc)"
   ]
  },
  {
   "cell_type": "markdown",
   "metadata": {},
   "source": [
    "### Пример как можно загрузить свой датасет изображений в Keras"
   ]
  },
  {
   "cell_type": "code",
   "execution_count": 66,
   "metadata": {},
   "outputs": [
    {
     "name": "stdout",
     "output_type": "stream",
     "text": [
      "Found 6862 files belonging to 11 classes.\n",
      "Using 5490 files for training.\n",
      "Using 1372 files for validation.\n"
     ]
    }
   ],
   "source": [
    "train_ds, val_ds = tf.keras.utils.image_dataset_from_directory(\n",
    "  r'D:\\JupyterLab\\weather_dataset',\n",
    "  validation_split=0.2,\n",
    "  subset='both',\n",
    "  seed=123,\n",
    "  image_size=(128, 128),\n",
    "  batch_size=128)"
   ]
  },
  {
   "cell_type": "code",
   "execution_count": 70,
   "metadata": {},
   "outputs": [],
   "source": [
    "model = Sequential()\n",
    "model.add(Rescaling(1./255))\n",
    "model.add(Conv2D(64, (3, 3), activation='relu', padding='same'))\n",
    "model.add(MaxPooling2D(pool_size=(2, 2)))\n",
    "model.add(Conv2D(128, (3, 3), activation='relu', padding='same'))\n",
    "model.add(MaxPooling2D(pool_size=(2, 2)))\n",
    "model.add(Flatten())\n",
    "model.add(Dense(256, activation='relu'))\n",
    "model.add(Dense(64, activation='relu'))\n",
    "model.add(Dense(11, activation='softmax'))\n",
    "\n",
    "# Компиляция модели\n",
    "model.compile(optimizer='adam',\n",
    "              loss='sparse_categorical_crossentropy',\n",
    "              metrics=['accuracy'])"
   ]
  },
  {
   "cell_type": "code",
   "execution_count": 65,
   "metadata": {},
   "outputs": [
    {
     "name": "stdout",
     "output_type": "stream",
     "text": [
      "Epoch 1/10\n",
      "43/43 [==============================] - 55s 1s/step - loss: 2.0897 - accuracy: 0.4086 - val_loss: 1.3387 - val_accuracy: 0.5590\n",
      "Epoch 2/10\n",
      "43/43 [==============================] - 53s 1s/step - loss: 1.0406 - accuracy: 0.6501 - val_loss: 1.0939 - val_accuracy: 0.6268\n",
      "Epoch 3/10\n",
      "43/43 [==============================] - 52s 1s/step - loss: 0.8152 - accuracy: 0.7302 - val_loss: 1.0346 - val_accuracy: 0.6676\n",
      "Epoch 4/10\n",
      "43/43 [==============================] - 55s 1s/step - loss: 0.6547 - accuracy: 0.7781 - val_loss: 0.8895 - val_accuracy: 0.7216\n",
      "Epoch 5/10\n",
      "43/43 [==============================] - 53s 1s/step - loss: 0.4529 - accuracy: 0.8543 - val_loss: 1.0358 - val_accuracy: 0.6880\n",
      "Epoch 6/10\n",
      "43/43 [==============================] - 53s 1s/step - loss: 0.3234 - accuracy: 0.8969 - val_loss: 0.9887 - val_accuracy: 0.7340\n",
      "Epoch 7/10\n",
      "43/43 [==============================] - 53s 1s/step - loss: 0.1957 - accuracy: 0.9397 - val_loss: 0.9948 - val_accuracy: 0.7493\n",
      "Epoch 8/10\n",
      "43/43 [==============================] - 53s 1s/step - loss: 0.1315 - accuracy: 0.9621 - val_loss: 1.2349 - val_accuracy: 0.7340\n",
      "Epoch 9/10\n",
      "43/43 [==============================] - 53s 1s/step - loss: 0.0879 - accuracy: 0.9772 - val_loss: 1.1897 - val_accuracy: 0.7398\n",
      "Epoch 10/10\n",
      "43/43 [==============================] - 53s 1s/step - loss: 0.0554 - accuracy: 0.9869 - val_loss: 1.3367 - val_accuracy: 0.7485\n"
     ]
    },
    {
     "data": {
      "text/plain": [
       "<keras.src.callbacks.History at 0x1a7b65ca990>"
      ]
     },
     "execution_count": 65,
     "metadata": {},
     "output_type": "execute_result"
    }
   ],
   "source": [
    "model.fit(train_ds, validation_data=val_ds, epochs=10)"
   ]
  },
  {
   "cell_type": "code",
   "execution_count": null,
   "metadata": {},
   "outputs": [],
   "source": []
  }
 ],
 "metadata": {
  "kernelspec": {
   "display_name": "Python 3",
   "language": "python",
   "name": "python3"
  },
  "language_info": {
   "codemirror_mode": {
    "name": "ipython",
    "version": 3
   },
   "file_extension": ".py",
   "mimetype": "text/x-python",
   "name": "python",
   "nbconvert_exporter": "python",
   "pygments_lexer": "ipython3",
   "version": "3.11.4"
  }
 },
 "nbformat": 4,
 "nbformat_minor": 2
}
