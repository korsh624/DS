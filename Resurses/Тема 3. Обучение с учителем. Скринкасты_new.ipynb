{
 "cells": [
  {
   "cell_type": "code",
   "execution_count": 1,
   "metadata": {},
   "outputs": [],
   "source": [
    "import numpy as np\n",
    "import pandas as pd\n",
    "from matplotlib import pyplot as plt\n",
    "from sklearn import tree\n",
    "from sklearn.model_selection import train_test_split\n",
    "from sklearn.tree import DecisionTreeRegressor, DecisionTreeClassifier\n",
    "from sklearn.metrics import mean_absolute_error, mean_squared_error"
   ]
  },
  {
   "cell_type": "markdown",
   "metadata": {},
   "source": [
    "### Обучение дерева решений для решения задачи классификации"
   ]
  },
  {
   "cell_type": "markdown",
   "metadata": {},
   "source": [
    "Построим дерево, решающее задачу определения, есть ли у ученика в табеле тройки, по трем бинарным признакам. "
   ]
  },
  {
   "cell_type": "code",
   "execution_count": 2,
   "metadata": {},
   "outputs": [
    {
     "data": {
      "text/html": [
       "<div>\n",
       "<style scoped>\n",
       "    .dataframe tbody tr th:only-of-type {\n",
       "        vertical-align: middle;\n",
       "    }\n",
       "\n",
       "    .dataframe tbody tr th {\n",
       "        vertical-align: top;\n",
       "    }\n",
       "\n",
       "    .dataframe thead th {\n",
       "        text-align: right;\n",
       "    }\n",
       "</style>\n",
       "<table border=\"1\" class=\"dataframe\">\n",
       "  <thead>\n",
       "    <tr style=\"text-align: right;\">\n",
       "      <th></th>\n",
       "      <th>student</th>\n",
       "      <th>attends_all_the_lessons</th>\n",
       "      <th>completes_all_the_homeworks</th>\n",
       "      <th>participates_in_contests</th>\n",
       "      <th>does_not_has_C_in_diploma</th>\n",
       "    </tr>\n",
       "  </thead>\n",
       "  <tbody>\n",
       "    <tr>\n",
       "      <th>0</th>\n",
       "      <td>Вася</td>\n",
       "      <td>1</td>\n",
       "      <td>0</td>\n",
       "      <td>0</td>\n",
       "      <td>1</td>\n",
       "    </tr>\n",
       "    <tr>\n",
       "      <th>1</th>\n",
       "      <td>Петя</td>\n",
       "      <td>0</td>\n",
       "      <td>0</td>\n",
       "      <td>0</td>\n",
       "      <td>0</td>\n",
       "    </tr>\n",
       "    <tr>\n",
       "      <th>2</th>\n",
       "      <td>Кристина</td>\n",
       "      <td>0</td>\n",
       "      <td>1</td>\n",
       "      <td>1</td>\n",
       "      <td>1</td>\n",
       "    </tr>\n",
       "    <tr>\n",
       "      <th>3</th>\n",
       "      <td>Полина</td>\n",
       "      <td>0</td>\n",
       "      <td>1</td>\n",
       "      <td>0</td>\n",
       "      <td>0</td>\n",
       "    </tr>\n",
       "    <tr>\n",
       "      <th>4</th>\n",
       "      <td>Егор</td>\n",
       "      <td>1</td>\n",
       "      <td>1</td>\n",
       "      <td>0</td>\n",
       "      <td>1</td>\n",
       "    </tr>\n",
       "    <tr>\n",
       "      <th>5</th>\n",
       "      <td>Света</td>\n",
       "      <td>0</td>\n",
       "      <td>0</td>\n",
       "      <td>0</td>\n",
       "      <td>0</td>\n",
       "    </tr>\n",
       "  </tbody>\n",
       "</table>\n",
       "</div>"
      ],
      "text/plain": [
       "    student  attends_all_the_lessons  completes_all_the_homeworks  \\\n",
       "0      Вася                        1                            0   \n",
       "1      Петя                        0                            0   \n",
       "2  Кристина                        0                            1   \n",
       "3    Полина                        0                            1   \n",
       "4      Егор                        1                            1   \n",
       "5     Света                        0                            0   \n",
       "\n",
       "   participates_in_contests  does_not_has_C_in_diploma  \n",
       "0                         0                          1  \n",
       "1                         0                          0  \n",
       "2                         1                          1  \n",
       "3                         0                          0  \n",
       "4                         0                          1  \n",
       "5                         0                          0  "
      ]
     },
     "execution_count": 2,
     "metadata": {},
     "output_type": "execute_result"
    }
   ],
   "source": [
    "students_data = [\n",
    "    {\n",
    "        'student': 'Вася',\n",
    "        'attends_all_the_lessons': 1,\n",
    "        'completes_all_the_homeworks': 0,\n",
    "        'participates_in_contests': 0,\n",
    "        'does_not_has_C_in_diploma': 1\n",
    "    },\n",
    "    {\n",
    "        'student': 'Петя',\n",
    "        'attends_all_the_lessons': 0,\n",
    "        'completes_all_the_homeworks': 0,\n",
    "        'participates_in_contests': 0,\n",
    "        'does_not_has_C_in_diploma': 0\n",
    "    },\n",
    "    {\n",
    "        'student': 'Кристина',\n",
    "        'attends_all_the_lessons': 0,\n",
    "        'completes_all_the_homeworks': 1,\n",
    "        'participates_in_contests': 1,\n",
    "        'does_not_has_C_in_diploma': 1\n",
    "    },\n",
    "    {\n",
    "        'student': 'Полина',\n",
    "        'attends_all_the_lessons': 0,\n",
    "        'completes_all_the_homeworks': 1,\n",
    "        'participates_in_contests': 0,\n",
    "        'does_not_has_C_in_diploma': 0\n",
    "    },\n",
    "    {\n",
    "        'student': 'Егор',\n",
    "        'attends_all_the_lessons': 1,\n",
    "        'completes_all_the_homeworks': 1,\n",
    "        'participates_in_contests': 0,\n",
    "        'does_not_has_C_in_diploma': 1\n",
    "    },\n",
    "    {\n",
    "        'student': 'Света',\n",
    "        'attends_all_the_lessons': 0,\n",
    "        'completes_all_the_homeworks': 0,\n",
    "        'participates_in_contests': 0,\n",
    "        'does_not_has_C_in_diploma': 0\n",
    "    }\n",
    "]\n",
    "students_pd = pd.DataFrame(students_data)\n",
    "students_pd"
   ]
  },
  {
   "cell_type": "markdown",
   "metadata": {},
   "source": [
    "__GINI__\n",
    "$$GINI = 1 - \\sum_{i=1}^C p_i^2,$$\n",
    "где $C$ - количество классов, $p_i$ - вероятность принадлежности $i-$тому классу (доля $i-$того класса в группе.  \n",
    "Чем коэффициент меньше, тем лучше."
   ]
  },
  {
   "cell_type": "markdown",
   "metadata": {},
   "source": [
    "Примеры: у максимального разнообразного набора GINI будет большим, у однородного  - минимальным."
   ]
  },
  {
   "cell_type": "code",
   "execution_count": 3,
   "metadata": {},
   "outputs": [],
   "source": [
    "def calc_gini(values, classes = [0, 1]):\n",
    "    if len(values) == 0:\n",
    "        return 0\n",
    "    \n",
    "    res = 1\n",
    "    for c in classes:\n",
    "        res -= (len([v for v in values if v == c]) / len(values)) ** 2\n",
    "    return res"
   ]
  },
  {
   "cell_type": "code",
   "execution_count": 4,
   "metadata": {},
   "outputs": [
    {
     "data": {
      "text/plain": [
       "0.5"
      ]
     },
     "execution_count": 4,
     "metadata": {},
     "output_type": "execute_result"
    }
   ],
   "source": [
    "bad_values = [1, 0, 1, 0, 1, 0]\n",
    "calc_gini(bad_values)"
   ]
  },
  {
   "cell_type": "code",
   "execution_count": 5,
   "metadata": {},
   "outputs": [
    {
     "data": {
      "text/plain": [
       "0.6666666666666665"
      ]
     },
     "execution_count": 5,
     "metadata": {},
     "output_type": "execute_result"
    }
   ],
   "source": [
    "super_bad_values = [1, 0, 2, 1, 0, 2, 1, 0, 2]\n",
    "calc_gini(super_bad_values, classes=[0, 1, 2])"
   ]
  },
  {
   "cell_type": "code",
   "execution_count": 6,
   "metadata": {},
   "outputs": [
    {
     "data": {
      "text/plain": [
       "0.0"
      ]
     },
     "execution_count": 6,
     "metadata": {},
     "output_type": "execute_result"
    }
   ],
   "source": [
    "good_values = [1, 1, 1, 1, 1, 1]\n",
    "calc_gini(good_values)"
   ]
  },
  {
   "cell_type": "markdown",
   "metadata": {},
   "source": [
    "Рассчитаем исходный джини"
   ]
  },
  {
   "cell_type": "code",
   "execution_count": 7,
   "metadata": {},
   "outputs": [],
   "source": [
    "target_name = 'does_not_has_C_in_diploma'"
   ]
  },
  {
   "cell_type": "code",
   "execution_count": 8,
   "metadata": {},
   "outputs": [
    {
     "data": {
      "text/plain": [
       "0.5"
      ]
     },
     "execution_count": 8,
     "metadata": {},
     "output_type": "execute_result"
    }
   ],
   "source": [
    "init_gini = calc_gini(students_pd[target_name])\n",
    "init_gini"
   ]
  },
  {
   "cell_type": "markdown",
   "metadata": {},
   "source": [
    "Строим первый сплит"
   ]
  },
  {
   "cell_type": "markdown",
   "metadata": {},
   "source": [
    "Расчитаем джини для разных наборов, получающихся при делении по фичам, и прирост информации.  \n",
    "Прирост информации рассчитываем по формуле:\n",
    "$$IG =gini_{before\\ split} - gini_{left\\ part} * ratio_{left\\ part} - gini_{right\\ part} * ratio_{right\\ part} ,$$\n",
    "где $gini$ - степень хаотичности в наборе, $ratio$ - доля элементов, попавших в новый лист после сплита"
   ]
  },
  {
   "cell_type": "code",
   "execution_count": 9,
   "metadata": {},
   "outputs": [],
   "source": [
    "feature_names = ['attends_all_the_lessons', 'completes_all_the_homeworks', 'participates_in_contests']"
   ]
  },
  {
   "cell_type": "code",
   "execution_count": 10,
   "metadata": {},
   "outputs": [
    {
     "name": "stdout",
     "output_type": "stream",
     "text": [
      "attends_all_the_lessons\n",
      "    Split value = 0.5\n",
      "        For students with feature less than 0.5 target equals 0 1 0 0 criterion equals 0.375\n",
      "        For students with feature more than 0.5 target equals 1 1 criterion equals 0.0\n",
      "        Information gain = 0.25\n",
      "\n",
      "completes_all_the_homeworks\n",
      "    Split value = 0.5\n",
      "        For students with feature less than 0.5 target equals 1 0 0 criterion equals 0.4444444444444445\n",
      "        For students with feature more than 0.5 target equals 1 0 1 criterion equals 0.4444444444444444\n",
      "        Information gain = 0.05555555555555558\n",
      "\n",
      "participates_in_contests\n",
      "    Split value = 0.5\n",
      "        For students with feature less than 0.5 target equals 1 0 0 1 0 criterion equals 0.48\n",
      "        For students with feature more than 0.5 target equals 1 criterion equals 0.0\n",
      "        Information gain = 0.09999999999999998\n",
      "\n",
      "BEST feature_split: attends_all_the_lessons_0.5 with information gain = 0.25\n"
     ]
    }
   ],
   "source": [
    "def calc_options(dt, target_name, init_criterion_value, calc_criterion_value):\n",
    "    max_information_gain = 0\n",
    "    best_feature_split = None\n",
    "    \n",
    "    # перебираем все признаки\n",
    "    for feature_name in feature_names:\n",
    "        print(feature_name)\n",
    "        \n",
    "        # составляем значения для сплитов по признаку\n",
    "        feature_values = dt[feature_name]\n",
    "        diff_feature_values = sorted(set(feature_values)) #[0, 1]\n",
    "        \n",
    "        # перебираем возможные сплиты по признаку\n",
    "        for i in range(len(diff_feature_values) - 1):\n",
    "            \n",
    "            information_gain = init_criterion_value\n",
    "            \n",
    "            # считаем значение сплита\n",
    "            split_value = (diff_feature_values[i] + diff_feature_values[i+1]) / 2\n",
    "            print(f'    Split value = {split_value}')\n",
    "            \n",
    "            # считаем хаотичность в левой группе\n",
    "            values_in_group = dt.query(f'{feature_name} <= {split_value}')[target_name]\n",
    "            criterion_value_for_group = calc_criterion_value(values_in_group)\n",
    "            ratio_for_group = len(values_in_group) / len(dt[target_name])\n",
    "            print(\n",
    "                f'        For students with feature less than {split_value} target equals', \n",
    "                ' '.join(values_in_group.astype(str)),\n",
    "                'criterion equals',\n",
    "                criterion_value_for_group\n",
    "            )\n",
    "            information_gain -= criterion_value_for_group * ratio_for_group\n",
    "            \n",
    "            # считаем хаотичность в правой группе\n",
    "            values_in_group = dt.query(f'{feature_name} > {split_value}')[target_name]\n",
    "            criterion_value_for_group = calc_criterion_value(values_in_group)\n",
    "            ratio_for_group = len(values_in_group) / len(dt[target_name])\n",
    "            print(\n",
    "                f'        For students with feature more than {split_value} target equals', \n",
    "                ' '.join(values_in_group.astype(str)),\n",
    "                'criterion equals',\n",
    "                criterion_value_for_group\n",
    "            )\n",
    "            information_gain -= criterion_value_for_group * ratio_for_group\n",
    "            \n",
    "            #считаем прирост иноформации\n",
    "            if max_information_gain < information_gain:\n",
    "                max_information_gain = information_gain\n",
    "                best_feature_split = f'{feature_name}_{split_value}'\n",
    "            print(f'        Information gain = {information_gain}')\n",
    "        print()\n",
    "    \n",
    "    print(f'BEST feature_split: {best_feature_split} with information gain = {max_information_gain}')\n",
    "        \n",
    "calc_options(students_pd, target_name, init_gini, calc_gini)"
   ]
  },
  {
   "cell_type": "markdown",
   "metadata": {},
   "source": [
    "Лучшая фича - attends_all_the_lessons. Теперь нужно разделить студентов попавших в первый лист."
   ]
  },
  {
   "cell_type": "code",
   "execution_count": 11,
   "metadata": {},
   "outputs": [
    {
     "data": {
      "text/plain": [
       "0.375"
      ]
     },
     "execution_count": 11,
     "metadata": {},
     "output_type": "execute_result"
    }
   ],
   "source": [
    "students_pd_after_1st_split_left = students_pd.query('attends_all_the_lessons <= 0.5').copy()\n",
    "init_gini_after_1st_split_left = calc_gini(students_pd_after_1st_split_left[target_name])\n",
    "init_gini_after_1st_split_left"
   ]
  },
  {
   "cell_type": "code",
   "execution_count": 12,
   "metadata": {},
   "outputs": [
    {
     "name": "stdout",
     "output_type": "stream",
     "text": [
      "attends_all_the_lessons\n",
      "\n",
      "completes_all_the_homeworks\n",
      "    Split value = 0.5\n",
      "        For students with feature less than 0.5 target equals 0 0 criterion equals 0.0\n",
      "        For students with feature more than 0.5 target equals 1 0 criterion equals 0.5\n",
      "        Information gain = 0.125\n",
      "\n",
      "participates_in_contests\n",
      "    Split value = 0.5\n",
      "        For students with feature less than 0.5 target equals 0 0 0 criterion equals 0.0\n",
      "        For students with feature more than 0.5 target equals 1 criterion equals 0.0\n",
      "        Information gain = 0.375\n",
      "\n",
      "BEST feature_split: participates_in_contests_0.5 with information gain = 0.375\n"
     ]
    }
   ],
   "source": [
    "calc_options(students_pd_after_1st_split_left.copy(), target_name, init_gini_after_1st_split_left, calc_gini)"
   ]
  },
  {
   "cell_type": "markdown",
   "metadata": {},
   "source": [
    "Лучшая фича - participates_in_contests. Все поделили, больше делить не надо!"
   ]
  },
  {
   "cell_type": "markdown",
   "metadata": {},
   "source": [
    "Проверяем себя, построив дерево с помощью библиотечного алгоритма."
   ]
  },
  {
   "cell_type": "code",
   "execution_count": 13,
   "metadata": {},
   "outputs": [
    {
     "data": {
      "image/png": "[encoded data removed]",
      "text/plain": [
       "<Figure size 1200x600 with 1 Axes>"
      ]
     },
     "metadata": {},
     "output_type": "display_data"
    }
   ],
   "source": [
    "model = DecisionTreeClassifier()\n",
    "model.fit(\n",
    "    X=students_pd[feature_names],\n",
    "    y=students_pd[target_name]\n",
    ")\n",
    "\n",
    "plt.figure(figsize=[12, 6])\n",
    "tree.plot_tree(model, feature_names=list(feature_names));"
   ]
  },
  {
   "cell_type": "markdown",
   "metadata": {},
   "source": [
    "### Расчет важностей фичей на примере дерева, решающего задачу классификации"
   ]
  },
  {
   "cell_type": "markdown",
   "metadata": {},
   "source": [
    "Необходимо умножить прирост информации в сплите на долю элементов в листе, над которым производился сплит, от всей выбрки."
   ]
  },
  {
   "cell_type": "markdown",
   "metadata": {},
   "source": [
    "Для фичи *attends_all_the_lessons* важность равна:"
   ]
  },
  {
   "cell_type": "code",
   "execution_count": 14,
   "metadata": {},
   "outputs": [
    {
     "data": {
      "text/plain": [
       "0.25"
      ]
     },
     "execution_count": 14,
     "metadata": {},
     "output_type": "execute_result"
    }
   ],
   "source": [
    "0.25 * 6 / 6"
   ]
  },
  {
   "cell_type": "markdown",
   "metadata": {},
   "source": [
    "Для фичи *participates_in_contests* важность равна:"
   ]
  },
  {
   "cell_type": "code",
   "execution_count": 15,
   "metadata": {},
   "outputs": [
    {
     "data": {
      "text/plain": [
       "0.25"
      ]
     },
     "execution_count": 15,
     "metadata": {},
     "output_type": "execute_result"
    }
   ],
   "source": [
    "0.375 * 4 / 6"
   ]
  },
  {
   "cell_type": "markdown",
   "metadata": {},
   "source": [
    "Итоговые важности нормируются так, чтобы давать в сумме единицу."
   ]
  },
  {
   "cell_type": "code",
   "execution_count": 16,
   "metadata": {},
   "outputs": [
    {
     "data": {
      "text/html": [
       "<div>\n",
       "<style scoped>\n",
       "    .dataframe tbody tr th:only-of-type {\n",
       "        vertical-align: middle;\n",
       "    }\n",
       "\n",
       "    .dataframe tbody tr th {\n",
       "        vertical-align: top;\n",
       "    }\n",
       "\n",
       "    .dataframe thead th {\n",
       "        text-align: right;\n",
       "    }\n",
       "</style>\n",
       "<table border=\"1\" class=\"dataframe\">\n",
       "  <thead>\n",
       "    <tr style=\"text-align: right;\">\n",
       "      <th></th>\n",
       "      <th>feature</th>\n",
       "      <th>importance</th>\n",
       "    </tr>\n",
       "  </thead>\n",
       "  <tbody>\n",
       "    <tr>\n",
       "      <th>0</th>\n",
       "      <td>attends_all_the_lessons</td>\n",
       "      <td>0.5</td>\n",
       "    </tr>\n",
       "    <tr>\n",
       "      <th>1</th>\n",
       "      <td>completes_all_the_homeworks</td>\n",
       "      <td>0.0</td>\n",
       "    </tr>\n",
       "    <tr>\n",
       "      <th>2</th>\n",
       "      <td>participates_in_contests</td>\n",
       "      <td>0.5</td>\n",
       "    </tr>\n",
       "  </tbody>\n",
       "</table>\n",
       "</div>"
      ],
      "text/plain": [
       "                       feature  importance\n",
       "0      attends_all_the_lessons         0.5\n",
       "1  completes_all_the_homeworks         0.0\n",
       "2     participates_in_contests         0.5"
      ]
     },
     "execution_count": 16,
     "metadata": {},
     "output_type": "execute_result"
    }
   ],
   "source": [
    "pd.DataFrame(zip(feature_names, model.feature_importances_), columns=['feature', 'importance'])"
   ]
  },
  {
   "cell_type": "markdown",
   "metadata": {},
   "source": [
    "### Обучение дерева решений для решения задачи регрессии"
   ]
  },
  {
   "cell_type": "code",
   "execution_count": 17,
   "metadata": {},
   "outputs": [
    {
     "data": {
      "text/html": [
       "<div>\n",
       "<style scoped>\n",
       "    .dataframe tbody tr th:only-of-type {\n",
       "        vertical-align: middle;\n",
       "    }\n",
       "\n",
       "    .dataframe tbody tr th {\n",
       "        vertical-align: top;\n",
       "    }\n",
       "\n",
       "    .dataframe thead th {\n",
       "        text-align: right;\n",
       "    }\n",
       "</style>\n",
       "<table border=\"1\" class=\"dataframe\">\n",
       "  <thead>\n",
       "    <tr style=\"text-align: right;\">\n",
       "      <th></th>\n",
       "      <th>student</th>\n",
       "      <th>attends_all_the_lessons</th>\n",
       "      <th>completed_homeworks_count</th>\n",
       "      <th>participates_in_contests</th>\n",
       "      <th>final_score_in_exam</th>\n",
       "    </tr>\n",
       "  </thead>\n",
       "  <tbody>\n",
       "    <tr>\n",
       "      <th>0</th>\n",
       "      <td>Вася</td>\n",
       "      <td>1</td>\n",
       "      <td>3</td>\n",
       "      <td>0</td>\n",
       "      <td>79</td>\n",
       "    </tr>\n",
       "    <tr>\n",
       "      <th>1</th>\n",
       "      <td>Петя</td>\n",
       "      <td>0</td>\n",
       "      <td>2</td>\n",
       "      <td>0</td>\n",
       "      <td>63</td>\n",
       "    </tr>\n",
       "    <tr>\n",
       "      <th>2</th>\n",
       "      <td>Кристина</td>\n",
       "      <td>0</td>\n",
       "      <td>4</td>\n",
       "      <td>1</td>\n",
       "      <td>91</td>\n",
       "    </tr>\n",
       "    <tr>\n",
       "      <th>3</th>\n",
       "      <td>Полина</td>\n",
       "      <td>0</td>\n",
       "      <td>2</td>\n",
       "      <td>0</td>\n",
       "      <td>68</td>\n",
       "    </tr>\n",
       "    <tr>\n",
       "      <th>4</th>\n",
       "      <td>Егор</td>\n",
       "      <td>1</td>\n",
       "      <td>4</td>\n",
       "      <td>0</td>\n",
       "      <td>87</td>\n",
       "    </tr>\n",
       "    <tr>\n",
       "      <th>5</th>\n",
       "      <td>Света</td>\n",
       "      <td>0</td>\n",
       "      <td>2</td>\n",
       "      <td>0</td>\n",
       "      <td>52</td>\n",
       "    </tr>\n",
       "  </tbody>\n",
       "</table>\n",
       "</div>"
      ],
      "text/plain": [
       "    student  attends_all_the_lessons  completed_homeworks_count  \\\n",
       "0      Вася                        1                          3   \n",
       "1      Петя                        0                          2   \n",
       "2  Кристина                        0                          4   \n",
       "3    Полина                        0                          2   \n",
       "4      Егор                        1                          4   \n",
       "5     Света                        0                          2   \n",
       "\n",
       "   participates_in_contests  final_score_in_exam  \n",
       "0                         0                   79  \n",
       "1                         0                   63  \n",
       "2                         1                   91  \n",
       "3                         0                   68  \n",
       "4                         0                   87  \n",
       "5                         0                   52  "
      ]
     },
     "execution_count": 17,
     "metadata": {},
     "output_type": "execute_result"
    }
   ],
   "source": [
    "students_data_new = [\n",
    "    {\n",
    "        'student': 'Вася',\n",
    "        'attends_all_the_lessons': 1,\n",
    "        'completed_homeworks_count': 3,\n",
    "        'participates_in_contests': 0,\n",
    "        'final_score_in_exam': 79\n",
    "    },\n",
    "    {\n",
    "        'student': 'Петя',\n",
    "        'attends_all_the_lessons': 0,\n",
    "        'completed_homeworks_count': 2,\n",
    "        'participates_in_contests': 0,\n",
    "        'final_score_in_exam': 63\n",
    "    },\n",
    "    {\n",
    "        'student': 'Кристина',\n",
    "        'attends_all_the_lessons': 0,\n",
    "        'completed_homeworks_count': 4,\n",
    "        'participates_in_contests': 1,\n",
    "        'final_score_in_exam': 91\n",
    "    },\n",
    "    {\n",
    "        'student': 'Полина',\n",
    "        'attends_all_the_lessons': 0,\n",
    "        'completed_homeworks_count': 2,\n",
    "        'participates_in_contests': 0,\n",
    "        'final_score_in_exam': 68\n",
    "    },\n",
    "    {\n",
    "        'student': 'Егор',\n",
    "        'attends_all_the_lessons': 1,\n",
    "        'completed_homeworks_count': 4,\n",
    "        'participates_in_contests': 0,\n",
    "        'final_score_in_exam': 87\n",
    "    },\n",
    "    {\n",
    "        'student': 'Света',\n",
    "        'attends_all_the_lessons': 0,\n",
    "        'completed_homeworks_count': 2,\n",
    "        'participates_in_contests': 0,\n",
    "        'final_score_in_exam': 52\n",
    "    }\n",
    "]\n",
    "students_pd_new = pd.DataFrame(students_data_new)\n",
    "students_pd_new"
   ]
  },
  {
   "cell_type": "code",
   "execution_count": 18,
   "metadata": {},
   "outputs": [],
   "source": [
    "def calc_squared_error(values):\n",
    "    mean_value = values.mean()\n",
    "    res = sum([(v - mean_value) ** 2 for v in values]) / len(values)\n",
    "    return res"
   ]
  },
  {
   "cell_type": "markdown",
   "metadata": {},
   "source": [
    "Рассчитаем исходный разброс"
   ]
  },
  {
   "cell_type": "code",
   "execution_count": 19,
   "metadata": {},
   "outputs": [],
   "source": [
    "target_name_new = 'final_score_in_exam'"
   ]
  },
  {
   "cell_type": "code",
   "execution_count": 20,
   "metadata": {},
   "outputs": [
    {
     "data": {
      "text/plain": [
       "186.88888888888889"
      ]
     },
     "execution_count": 20,
     "metadata": {},
     "output_type": "execute_result"
    }
   ],
   "source": [
    "init_mse = calc_squared_error(students_pd_new[target_name_new])\n",
    "init_mse"
   ]
  },
  {
   "cell_type": "markdown",
   "metadata": {},
   "source": [
    "Строим первый сплит"
   ]
  },
  {
   "cell_type": "code",
   "execution_count": 21,
   "metadata": {},
   "outputs": [],
   "source": [
    "feature_names = ['attends_all_the_lessons', 'completed_homeworks_count', 'participates_in_contests']"
   ]
  },
  {
   "cell_type": "code",
   "execution_count": 22,
   "metadata": {},
   "outputs": [
    {
     "name": "stdout",
     "output_type": "stream",
     "text": [
      "attends_all_the_lessons\n",
      "    Split value = 0.5\n",
      "        For students with feature less than 0.5 target equals 63 91 68 52 criterion equals 202.25\n",
      "        For students with feature more than 0.5 target equals 79 87 criterion equals 16.0\n",
      "        Information gain = 46.722222222222236\n",
      "\n",
      "completed_homeworks_count\n",
      "    Split value = 2.5\n",
      "        For students with feature less than 2.5 target equals 63 68 52 criterion equals 44.666666666666664\n",
      "        For students with feature more than 2.5 target equals 79 91 87 criterion equals 24.88888888888889\n",
      "        Information gain = 152.1111111111111\n",
      "    Split value = 3.5\n",
      "        For students with feature less than 3.5 target equals 79 63 68 52 criterion equals 94.25\n",
      "        For students with feature more than 3.5 target equals 91 87 criterion equals 4.0\n",
      "        Information gain = 122.72222222222223\n",
      "\n",
      "participates_in_contests\n",
      "    Split value = 0.5\n",
      "        For students with feature less than 0.5 target equals 79 63 68 87 52 criterion equals 149.35999999999999\n",
      "        For students with feature more than 0.5 target equals 91 criterion equals 0.0\n",
      "        Information gain = 62.42222222222223\n",
      "\n",
      "BEST feature_split: completed_homeworks_count_2.5 with information gain = 152.1111111111111\n"
     ]
    }
   ],
   "source": [
    "calc_options(students_pd_new, target_name_new, init_mse, calc_squared_error)"
   ]
  },
  {
   "cell_type": "markdown",
   "metadata": {},
   "source": [
    "Строим второй сплит"
   ]
  },
  {
   "cell_type": "code",
   "execution_count": 23,
   "metadata": {},
   "outputs": [
    {
     "data": {
      "text/plain": [
       "24.88888888888889"
      ]
     },
     "execution_count": 23,
     "metadata": {},
     "output_type": "execute_result"
    }
   ],
   "source": [
    "students_pd_new_after_1st_split_right = students_pd_new.query('completed_homeworks_count > 2.5').copy()\n",
    "init_mse_after_1st_split_right = calc_squared_error(students_pd_new_after_1st_split_right[target_name_new])\n",
    "init_mse_after_1st_split_right"
   ]
  },
  {
   "cell_type": "code",
   "execution_count": 24,
   "metadata": {},
   "outputs": [
    {
     "name": "stdout",
     "output_type": "stream",
     "text": [
      "attends_all_the_lessons\n",
      "    Split value = 0.5\n",
      "        For students with feature less than 0.5 target equals 91 criterion equals 0.0\n",
      "        For students with feature more than 0.5 target equals 79 87 criterion equals 16.0\n",
      "        Information gain = 14.222222222222223\n",
      "\n",
      "completed_homeworks_count\n",
      "    Split value = 3.5\n",
      "        For students with feature less than 3.5 target equals 79 criterion equals 0.0\n",
      "        For students with feature more than 3.5 target equals 91 87 criterion equals 4.0\n",
      "        Information gain = 22.22222222222222\n",
      "\n",
      "participates_in_contests\n",
      "    Split value = 0.5\n",
      "        For students with feature less than 0.5 target equals 79 87 criterion equals 16.0\n",
      "        For students with feature more than 0.5 target equals 91 criterion equals 0.0\n",
      "        Information gain = 14.222222222222223\n",
      "\n",
      "BEST feature_split: completed_homeworks_count_3.5 with information gain = 22.22222222222222\n"
     ]
    }
   ],
   "source": [
    "calc_options(\n",
    "    students_pd_new_after_1st_split_right, \n",
    "    target_name_new, \n",
    "    init_mse_after_1st_split_right, \n",
    "    calc_squared_error)"
   ]
  },
  {
   "cell_type": "markdown",
   "metadata": {},
   "source": [
    "Строим третий сплит"
   ]
  },
  {
   "cell_type": "code",
   "execution_count": 25,
   "metadata": {},
   "outputs": [
    {
     "data": {
      "text/plain": [
       "4.0"
      ]
     },
     "execution_count": 25,
     "metadata": {},
     "output_type": "execute_result"
    }
   ],
   "source": [
    "students_pd_new_after_2st_split_right = students_pd_new_after_1st_split_right.query('completed_homeworks_count > 3.5')\\\n",
    "    .copy()\n",
    "init_mse_after_2st_split_right = calc_squared_error(students_pd_new_after_2st_split_right[target_name_new])\n",
    "init_mse_after_2st_split_right"
   ]
  },
  {
   "cell_type": "code",
   "execution_count": 26,
   "metadata": {},
   "outputs": [
    {
     "name": "stdout",
     "output_type": "stream",
     "text": [
      "attends_all_the_lessons\n",
      "    Split value = 0.5\n",
      "        For students with feature less than 0.5 target equals 91 criterion equals 0.0\n",
      "        For students with feature more than 0.5 target equals 87 criterion equals 0.0\n",
      "        Information gain = 4.0\n",
      "\n",
      "completed_homeworks_count\n",
      "\n",
      "participates_in_contests\n",
      "    Split value = 0.5\n",
      "        For students with feature less than 0.5 target equals 87 criterion equals 0.0\n",
      "        For students with feature more than 0.5 target equals 91 criterion equals 0.0\n",
      "        Information gain = 4.0\n",
      "\n",
      "BEST feature_split: attends_all_the_lessons_0.5 with information gain = 4.0\n"
     ]
    }
   ],
   "source": [
    "calc_options(\n",
    "    students_pd_new_after_2st_split_right.copy(), \n",
    "    target_name_new, \n",
    "    init_mse_after_2st_split_right, \n",
    "    calc_squared_error)"
   ]
  },
  {
   "cell_type": "markdown",
   "metadata": {},
   "source": [
    "Проверим себя, построив дерево с помощью библиотечной реализации алгоритма"
   ]
  },
  {
   "cell_type": "code",
   "execution_count": 27,
   "metadata": {},
   "outputs": [
    {
     "data": {
      "image/png": "[encoded data removed]",
      "text/plain": [
       "<Figure size 1200x600 with 1 Axes>"
      ]
     },
     "metadata": {},
     "output_type": "display_data"
    }
   ],
   "source": [
    "model_new = DecisionTreeRegressor()\n",
    "model_new.fit(\n",
    "    X=students_pd_new[feature_names],\n",
    "    y=students_pd_new[target_name_new]\n",
    ")\n",
    "\n",
    "plt.figure(figsize=[12, 6])\n",
    "tree.plot_tree(model_new, feature_names=list(feature_names));"
   ]
  },
  {
   "cell_type": "markdown",
   "metadata": {},
   "source": [
    "### Расчет важностей фичей на примере дерева, решающего задачу регрессии"
   ]
  },
  {
   "cell_type": "markdown",
   "metadata": {},
   "source": [
    "Для фичи *attends_all_lessons*"
   ]
  },
  {
   "cell_type": "code",
   "execution_count": 28,
   "metadata": {},
   "outputs": [
    {
     "data": {
      "text/plain": [
       "1.3333333333333333"
      ]
     },
     "execution_count": 28,
     "metadata": {},
     "output_type": "execute_result"
    }
   ],
   "source": [
    "4.0 * 2 / 6"
   ]
  },
  {
   "cell_type": "markdown",
   "metadata": {},
   "source": [
    "Для фичи *completed_homeworks_count*"
   ]
  },
  {
   "cell_type": "code",
   "execution_count": 29,
   "metadata": {},
   "outputs": [
    {
     "data": {
      "text/plain": [
       "163.2222222222222"
      ]
     },
     "execution_count": 29,
     "metadata": {},
     "output_type": "execute_result"
    }
   ],
   "source": [
    "152.1111111111111 * 6 / 6 + 22.22222222222222 * 3 / 6"
   ]
  },
  {
   "cell_type": "markdown",
   "metadata": {},
   "source": [
    "Далее нормируем, чтобы получать в сумме 100"
   ]
  },
  {
   "cell_type": "code",
   "execution_count": 30,
   "metadata": {},
   "outputs": [],
   "source": [
    "coeff = 100 / (163.2222222222222 + 1.3333333333333333)"
   ]
  },
  {
   "cell_type": "code",
   "execution_count": 31,
   "metadata": {},
   "outputs": [
    {
     "data": {
      "text/plain": [
       "99.18973666441593"
      ]
     },
     "execution_count": 31,
     "metadata": {},
     "output_type": "execute_result"
    }
   ],
   "source": [
    "163.2222222222222 * coeff"
   ]
  },
  {
   "cell_type": "code",
   "execution_count": 32,
   "metadata": {},
   "outputs": [
    {
     "data": {
      "text/plain": [
       "0.8102633355840649"
      ]
     },
     "execution_count": 32,
     "metadata": {},
     "output_type": "execute_result"
    }
   ],
   "source": [
    "1.3333333333333333 * coeff"
   ]
  },
  {
   "cell_type": "code",
   "execution_count": 33,
   "metadata": {},
   "outputs": [
    {
     "data": {
      "text/html": [
       "<div>\n",
       "<style scoped>\n",
       "    .dataframe tbody tr th:only-of-type {\n",
       "        vertical-align: middle;\n",
       "    }\n",
       "\n",
       "    .dataframe tbody tr th {\n",
       "        vertical-align: top;\n",
       "    }\n",
       "\n",
       "    .dataframe thead th {\n",
       "        text-align: right;\n",
       "    }\n",
       "</style>\n",
       "<table border=\"1\" class=\"dataframe\">\n",
       "  <thead>\n",
       "    <tr style=\"text-align: right;\">\n",
       "      <th></th>\n",
       "      <th>feature</th>\n",
       "      <th>importance</th>\n",
       "    </tr>\n",
       "  </thead>\n",
       "  <tbody>\n",
       "    <tr>\n",
       "      <th>0</th>\n",
       "      <td>attends_all_the_lessons</td>\n",
       "      <td>0.008103</td>\n",
       "    </tr>\n",
       "    <tr>\n",
       "      <th>1</th>\n",
       "      <td>completed_homeworks_count</td>\n",
       "      <td>0.991897</td>\n",
       "    </tr>\n",
       "    <tr>\n",
       "      <th>2</th>\n",
       "      <td>participates_in_contests</td>\n",
       "      <td>0.000000</td>\n",
       "    </tr>\n",
       "  </tbody>\n",
       "</table>\n",
       "</div>"
      ],
      "text/plain": [
       "                     feature  importance\n",
       "0    attends_all_the_lessons    0.008103\n",
       "1  completed_homeworks_count    0.991897\n",
       "2   participates_in_contests    0.000000"
      ]
     },
     "execution_count": 33,
     "metadata": {},
     "output_type": "execute_result"
    }
   ],
   "source": [
    "pd.DataFrame(zip(feature_names, model_new.feature_importances_), columns=['feature', 'importance'])"
   ]
  },
  {
   "cell_type": "markdown",
   "metadata": {},
   "source": [
    "### Переобучение и недообучение решающего дерева"
   ]
  },
  {
   "cell_type": "markdown",
   "metadata": {},
   "source": [
    "Решаем задачу предсказания уровня трат покупателя по его входным данным:\n",
    "- id покупателя\n",
    "- пол покупателя\n",
    "- возраст покупателя\n",
    "- годовой доход покупателя\n",
    "\n",
    "[Данные можно найти тут](https://www.kaggle.com/datasets/shwetabh123/mall-customers?resource=download)"
   ]
  },
  {
   "cell_type": "code",
   "execution_count": 34,
   "metadata": {},
   "outputs": [
    {
     "data": {
      "text/html": [
       "<div>\n",
       "<style scoped>\n",
       "    .dataframe tbody tr th:only-of-type {\n",
       "        vertical-align: middle;\n",
       "    }\n",
       "\n",
       "    .dataframe tbody tr th {\n",
       "        vertical-align: top;\n",
       "    }\n",
       "\n",
       "    .dataframe thead th {\n",
       "        text-align: right;\n",
       "    }\n",
       "</style>\n",
       "<table border=\"1\" class=\"dataframe\">\n",
       "  <thead>\n",
       "    <tr style=\"text-align: right;\">\n",
       "      <th></th>\n",
       "      <th>CustomerID</th>\n",
       "      <th>Genre</th>\n",
       "      <th>Age</th>\n",
       "      <th>Annual Income (k$)</th>\n",
       "      <th>Spending Score (1-100)</th>\n",
       "    </tr>\n",
       "  </thead>\n",
       "  <tbody>\n",
       "    <tr>\n",
       "      <th>0</th>\n",
       "      <td>1</td>\n",
       "      <td>Male</td>\n",
       "      <td>19</td>\n",
       "      <td>15</td>\n",
       "      <td>39</td>\n",
       "    </tr>\n",
       "    <tr>\n",
       "      <th>1</th>\n",
       "      <td>2</td>\n",
       "      <td>Male</td>\n",
       "      <td>21</td>\n",
       "      <td>15</td>\n",
       "      <td>81</td>\n",
       "    </tr>\n",
       "    <tr>\n",
       "      <th>2</th>\n",
       "      <td>3</td>\n",
       "      <td>Female</td>\n",
       "      <td>20</td>\n",
       "      <td>16</td>\n",
       "      <td>6</td>\n",
       "    </tr>\n",
       "    <tr>\n",
       "      <th>3</th>\n",
       "      <td>4</td>\n",
       "      <td>Female</td>\n",
       "      <td>23</td>\n",
       "      <td>16</td>\n",
       "      <td>77</td>\n",
       "    </tr>\n",
       "    <tr>\n",
       "      <th>4</th>\n",
       "      <td>5</td>\n",
       "      <td>Female</td>\n",
       "      <td>31</td>\n",
       "      <td>17</td>\n",
       "      <td>40</td>\n",
       "    </tr>\n",
       "  </tbody>\n",
       "</table>\n",
       "</div>"
      ],
      "text/plain": [
       "   CustomerID   Genre  Age  Annual Income (k$)  Spending Score (1-100)\n",
       "0           1    Male   19                  15                      39\n",
       "1           2    Male   21                  15                      81\n",
       "2           3  Female   20                  16                       6\n",
       "3           4  Female   23                  16                      77\n",
       "4           5  Female   31                  17                      40"
      ]
     },
     "execution_count": 34,
     "metadata": {},
     "output_type": "execute_result"
    }
   ],
   "source": [
    "# загружаем данные\n",
    "df = pd.read_csv('Mall_Customers.csv')\n",
    "df.head()"
   ]
  },
  {
   "cell_type": "code",
   "execution_count": 35,
   "metadata": {},
   "outputs": [
    {
     "name": "stdout",
     "output_type": "stream",
     "text": [
      "<class 'pandas.core.frame.DataFrame'>\n",
      "RangeIndex: 200 entries, 0 to 199\n",
      "Data columns (total 5 columns):\n",
      " #   Column                  Non-Null Count  Dtype \n",
      "---  ------                  --------------  ----- \n",
      " 0   CustomerID              200 non-null    int64 \n",
      " 1   Genre                   200 non-null    object\n",
      " 2   Age                     200 non-null    int64 \n",
      " 3   Annual Income (k$)      200 non-null    int64 \n",
      " 4   Spending Score (1-100)  200 non-null    int64 \n",
      "dtypes: int64(4), object(1)\n",
      "memory usage: 7.9+ KB\n"
     ]
    }
   ],
   "source": [
    "# посмотрим тип данных и нет ли пропусков\n",
    "df.info()"
   ]
  },
  {
   "cell_type": "code",
   "execution_count": 36,
   "metadata": {},
   "outputs": [
    {
     "data": {
      "text/html": [
       "<div>\n",
       "<style scoped>\n",
       "    .dataframe tbody tr th:only-of-type {\n",
       "        vertical-align: middle;\n",
       "    }\n",
       "\n",
       "    .dataframe tbody tr th {\n",
       "        vertical-align: top;\n",
       "    }\n",
       "\n",
       "    .dataframe thead th {\n",
       "        text-align: right;\n",
       "    }\n",
       "</style>\n",
       "<table border=\"1\" class=\"dataframe\">\n",
       "  <thead>\n",
       "    <tr style=\"text-align: right;\">\n",
       "      <th></th>\n",
       "      <th>Genre</th>\n",
       "      <th>Age</th>\n",
       "      <th>Annual Income (k$)</th>\n",
       "    </tr>\n",
       "  </thead>\n",
       "  <tbody>\n",
       "    <tr>\n",
       "      <th>0</th>\n",
       "      <td>1</td>\n",
       "      <td>19</td>\n",
       "      <td>15</td>\n",
       "    </tr>\n",
       "    <tr>\n",
       "      <th>1</th>\n",
       "      <td>1</td>\n",
       "      <td>21</td>\n",
       "      <td>15</td>\n",
       "    </tr>\n",
       "    <tr>\n",
       "      <th>2</th>\n",
       "      <td>0</td>\n",
       "      <td>20</td>\n",
       "      <td>16</td>\n",
       "    </tr>\n",
       "    <tr>\n",
       "      <th>3</th>\n",
       "      <td>0</td>\n",
       "      <td>23</td>\n",
       "      <td>16</td>\n",
       "    </tr>\n",
       "    <tr>\n",
       "      <th>4</th>\n",
       "      <td>0</td>\n",
       "      <td>31</td>\n",
       "      <td>17</td>\n",
       "    </tr>\n",
       "  </tbody>\n",
       "</table>\n",
       "</div>"
      ],
      "text/plain": [
       "   Genre  Age  Annual Income (k$)\n",
       "0      1   19                  15\n",
       "1      1   21                  15\n",
       "2      0   20                  16\n",
       "3      0   23                  16\n",
       "4      0   31                  17"
      ]
     },
     "execution_count": 36,
     "metadata": {},
     "output_type": "execute_result"
    }
   ],
   "source": [
    "# отделяем признаки\n",
    "features = df[['Genre', 'Age', 'Annual Income (k$)']].copy()\n",
    "features['Genre'] = (features['Genre'] == 'Male') * 1\n",
    "features.head()"
   ]
  },
  {
   "cell_type": "code",
   "execution_count": 37,
   "metadata": {},
   "outputs": [],
   "source": [
    "# отделяем целевую переменную\n",
    "target = df['Spending Score (1-100)']"
   ]
  },
  {
   "cell_type": "code",
   "execution_count": 38,
   "metadata": {},
   "outputs": [],
   "source": [
    "features_train, features_test, target_train, target_test = train_test_split(features, target, test_size=0.25, random_state=42)"
   ]
  },
  {
   "cell_type": "markdown",
   "metadata": {},
   "source": [
    "Обучим очень сложное дерево"
   ]
  },
  {
   "cell_type": "code",
   "execution_count": 39,
   "metadata": {},
   "outputs": [
    {
     "name": "stdout",
     "output_type": "stream",
     "text": [
      "Качество на обучающей выборке: 0.6266666666666667\n",
      "Качество на валидационной выборке: 19.0\n"
     ]
    }
   ],
   "source": [
    "model = DecisionTreeRegressor(min_samples_leaf=1, random_state=1)\n",
    "\n",
    "model.fit(features_train, target_train)\n",
    "pred_train = model.predict(features_train)\n",
    "pred_test = model.predict(features_test)\n",
    "\n",
    "print(f'Качество на обучающей выборке: {mean_absolute_error(pred_train, target_train)}')\n",
    "print(f'Качество на валидационной выборке: {mean_absolute_error(pred_test, target_test)}')"
   ]
  },
  {
   "cell_type": "code",
   "execution_count": 40,
   "metadata": {},
   "outputs": [
    {
     "data": {
      "text/plain": [
       "17"
      ]
     },
     "execution_count": 40,
     "metadata": {},
     "output_type": "execute_result"
    }
   ],
   "source": [
    "model.get_depth()"
   ]
  },
  {
   "cell_type": "markdown",
   "metadata": {},
   "source": [
    "Понаблюдаем как меняются ошибки в зависимости от сложности алгоритма"
   ]
  },
  {
   "cell_type": "code",
   "execution_count": 41,
   "metadata": {},
   "outputs": [
    {
     "data": {
      "image/png": "[encoded data removed]",
      "text/plain": [
       "<Figure size 640x480 with 1 Axes>"
      ]
     },
     "metadata": {},
     "output_type": "display_data"
    }
   ],
   "source": [
    "res = []\n",
    "for param in range(1, 30, 1):\n",
    "    model = DecisionTreeRegressor(min_samples_leaf=param, random_state=42)\n",
    "\n",
    "    model.fit(features_train, target_train)\n",
    "    pred_train = model.predict(features_train)\n",
    "    pred_test = model.predict(features_test)\n",
    "\n",
    "    res.append([param, mean_absolute_error(pred_train, target_train), mean_absolute_error(pred_test, target_test)])\n",
    "    \n",
    "res_pd = pd.DataFrame(res, columns=['min_samples_leaf', 'mae_train', 'mae_test'])\n",
    "\n",
    "res_pd.set_index('min_samples_leaf')['mae_train'].plot(label='mae_train')\n",
    "res_pd.set_index('min_samples_leaf')['mae_test'].plot(label='mae_test')\n",
    "plt.legend()\n",
    "plt.ylabel('MAE');"
   ]
  },
  {
   "cell_type": "code",
   "execution_count": 42,
   "metadata": {},
   "outputs": [
    {
     "data": {
      "text/html": [
       "<div>\n",
       "<style scoped>\n",
       "    .dataframe tbody tr th:only-of-type {\n",
       "        vertical-align: middle;\n",
       "    }\n",
       "\n",
       "    .dataframe tbody tr th {\n",
       "        vertical-align: top;\n",
       "    }\n",
       "\n",
       "    .dataframe thead th {\n",
       "        text-align: right;\n",
       "    }\n",
       "</style>\n",
       "<table border=\"1\" class=\"dataframe\">\n",
       "  <thead>\n",
       "    <tr style=\"text-align: right;\">\n",
       "      <th></th>\n",
       "      <th>min_samples_leaf</th>\n",
       "      <th>mae_train</th>\n",
       "      <th>mae_test</th>\n",
       "    </tr>\n",
       "  </thead>\n",
       "  <tbody>\n",
       "    <tr>\n",
       "      <th>14</th>\n",
       "      <td>15</td>\n",
       "      <td>15.61128</td>\n",
       "      <td>13.854993</td>\n",
       "    </tr>\n",
       "  </tbody>\n",
       "</table>\n",
       "</div>"
      ],
      "text/plain": [
       "    min_samples_leaf  mae_train   mae_test\n",
       "14                15   15.61128  13.854993"
      ]
     },
     "execution_count": 42,
     "metadata": {},
     "output_type": "execute_result"
    }
   ],
   "source": [
    "res_pd[res_pd['mae_test'] == res_pd['mae_test'].min()]"
   ]
  },
  {
   "cell_type": "markdown",
   "metadata": {},
   "source": [
    "### Случайный лес"
   ]
  },
  {
   "cell_type": "code",
   "execution_count": 43,
   "metadata": {},
   "outputs": [],
   "source": [
    "from sklearn.ensemble import RandomForestRegressor"
   ]
  },
  {
   "cell_type": "markdown",
   "metadata": {},
   "source": [
    "Решаем задачу оценки качества вина по 10-бальной шкале в зависимости от результатов замеров некоторых показателей (остаточный сахар, кислотность, крепость и др)  \n",
    "[Данные можно найти тут](https://archive.ics.uci.edu/dataset/186/wine+quality)"
   ]
  },
  {
   "cell_type": "code",
   "execution_count": 44,
   "metadata": {},
   "outputs": [
    {
     "data": {
      "text/html": [
       "<div>\n",
       "<style scoped>\n",
       "    .dataframe tbody tr th:only-of-type {\n",
       "        vertical-align: middle;\n",
       "    }\n",
       "\n",
       "    .dataframe tbody tr th {\n",
       "        vertical-align: top;\n",
       "    }\n",
       "\n",
       "    .dataframe thead th {\n",
       "        text-align: right;\n",
       "    }\n",
       "</style>\n",
       "<table border=\"1\" class=\"dataframe\">\n",
       "  <thead>\n",
       "    <tr style=\"text-align: right;\">\n",
       "      <th></th>\n",
       "      <th>fixed acidity</th>\n",
       "      <th>volatile acidity</th>\n",
       "      <th>citric acid</th>\n",
       "      <th>residual sugar</th>\n",
       "      <th>chlorides</th>\n",
       "      <th>free sulfur dioxide</th>\n",
       "      <th>total sulfur dioxide</th>\n",
       "      <th>density</th>\n",
       "      <th>pH</th>\n",
       "      <th>sulphates</th>\n",
       "      <th>alcohol</th>\n",
       "      <th>quality</th>\n",
       "    </tr>\n",
       "  </thead>\n",
       "  <tbody>\n",
       "    <tr>\n",
       "      <th>0</th>\n",
       "      <td>7.4</td>\n",
       "      <td>0.70</td>\n",
       "      <td>0.00</td>\n",
       "      <td>1.9</td>\n",
       "      <td>0.076</td>\n",
       "      <td>11.0</td>\n",
       "      <td>34.0</td>\n",
       "      <td>0.9978</td>\n",
       "      <td>3.51</td>\n",
       "      <td>0.56</td>\n",
       "      <td>9.4</td>\n",
       "      <td>5</td>\n",
       "    </tr>\n",
       "    <tr>\n",
       "      <th>1</th>\n",
       "      <td>7.8</td>\n",
       "      <td>0.88</td>\n",
       "      <td>0.00</td>\n",
       "      <td>2.6</td>\n",
       "      <td>0.098</td>\n",
       "      <td>25.0</td>\n",
       "      <td>67.0</td>\n",
       "      <td>0.9968</td>\n",
       "      <td>3.20</td>\n",
       "      <td>0.68</td>\n",
       "      <td>9.8</td>\n",
       "      <td>5</td>\n",
       "    </tr>\n",
       "    <tr>\n",
       "      <th>2</th>\n",
       "      <td>7.8</td>\n",
       "      <td>0.76</td>\n",
       "      <td>0.04</td>\n",
       "      <td>2.3</td>\n",
       "      <td>0.092</td>\n",
       "      <td>15.0</td>\n",
       "      <td>54.0</td>\n",
       "      <td>0.9970</td>\n",
       "      <td>3.26</td>\n",
       "      <td>0.65</td>\n",
       "      <td>9.8</td>\n",
       "      <td>5</td>\n",
       "    </tr>\n",
       "    <tr>\n",
       "      <th>3</th>\n",
       "      <td>11.2</td>\n",
       "      <td>0.28</td>\n",
       "      <td>0.56</td>\n",
       "      <td>1.9</td>\n",
       "      <td>0.075</td>\n",
       "      <td>17.0</td>\n",
       "      <td>60.0</td>\n",
       "      <td>0.9980</td>\n",
       "      <td>3.16</td>\n",
       "      <td>0.58</td>\n",
       "      <td>9.8</td>\n",
       "      <td>6</td>\n",
       "    </tr>\n",
       "    <tr>\n",
       "      <th>4</th>\n",
       "      <td>7.4</td>\n",
       "      <td>0.70</td>\n",
       "      <td>0.00</td>\n",
       "      <td>1.9</td>\n",
       "      <td>0.076</td>\n",
       "      <td>11.0</td>\n",
       "      <td>34.0</td>\n",
       "      <td>0.9978</td>\n",
       "      <td>3.51</td>\n",
       "      <td>0.56</td>\n",
       "      <td>9.4</td>\n",
       "      <td>5</td>\n",
       "    </tr>\n",
       "  </tbody>\n",
       "</table>\n",
       "</div>"
      ],
      "text/plain": [
       "   fixed acidity  volatile acidity  citric acid  residual sugar  chlorides  \\\n",
       "0            7.4              0.70         0.00             1.9      0.076   \n",
       "1            7.8              0.88         0.00             2.6      0.098   \n",
       "2            7.8              0.76         0.04             2.3      0.092   \n",
       "3           11.2              0.28         0.56             1.9      0.075   \n",
       "4            7.4              0.70         0.00             1.9      0.076   \n",
       "\n",
       "   free sulfur dioxide  total sulfur dioxide  density    pH  sulphates  \\\n",
       "0                 11.0                  34.0   0.9978  3.51       0.56   \n",
       "1                 25.0                  67.0   0.9968  3.20       0.68   \n",
       "2                 15.0                  54.0   0.9970  3.26       0.65   \n",
       "3                 17.0                  60.0   0.9980  3.16       0.58   \n",
       "4                 11.0                  34.0   0.9978  3.51       0.56   \n",
       "\n",
       "   alcohol  quality  \n",
       "0      9.4        5  \n",
       "1      9.8        5  \n",
       "2      9.8        5  \n",
       "3      9.8        6  \n",
       "4      9.4        5  "
      ]
     },
     "execution_count": 44,
     "metadata": {},
     "output_type": "execute_result"
    }
   ],
   "source": [
    "df = pd.read_csv('winequality-red.csv', sep=';')\n",
    "df.head()"
   ]
  },
  {
   "cell_type": "code",
   "execution_count": 45,
   "metadata": {},
   "outputs": [
    {
     "name": "stdout",
     "output_type": "stream",
     "text": [
      "<class 'pandas.core.frame.DataFrame'>\n",
      "RangeIndex: 1599 entries, 0 to 1598\n",
      "Data columns (total 12 columns):\n",
      " #   Column                Non-Null Count  Dtype  \n",
      "---  ------                --------------  -----  \n",
      " 0   fixed acidity         1599 non-null   float64\n",
      " 1   volatile acidity      1599 non-null   float64\n",
      " 2   citric acid           1599 non-null   float64\n",
      " 3   residual sugar        1599 non-null   float64\n",
      " 4   chlorides             1599 non-null   float64\n",
      " 5   free sulfur dioxide   1599 non-null   float64\n",
      " 6   total sulfur dioxide  1599 non-null   float64\n",
      " 7   density               1599 non-null   float64\n",
      " 8   pH                    1599 non-null   float64\n",
      " 9   sulphates             1599 non-null   float64\n",
      " 10  alcohol               1599 non-null   float64\n",
      " 11  quality               1599 non-null   int64  \n",
      "dtypes: float64(11), int64(1)\n",
      "memory usage: 150.0 KB\n"
     ]
    }
   ],
   "source": [
    "df.info()"
   ]
  },
  {
   "cell_type": "code",
   "execution_count": 46,
   "metadata": {},
   "outputs": [],
   "source": [
    "features = df.drop(['quality'], axis=1)\n",
    "target = df['quality']"
   ]
  },
  {
   "cell_type": "code",
   "execution_count": 47,
   "metadata": {},
   "outputs": [],
   "source": [
    "features_train, features_test, target_train, target_test = train_test_split(features, target, test_size=0.25, random_state=42)"
   ]
  },
  {
   "cell_type": "markdown",
   "metadata": {},
   "source": [
    "Выберем лучшее дерево"
   ]
  },
  {
   "cell_type": "code",
   "execution_count": 48,
   "metadata": {},
   "outputs": [
    {
     "data": {
      "image/png": "[encoded data removed]",
      "text/plain": [
       "<Figure size 640x480 with 1 Axes>"
      ]
     },
     "metadata": {},
     "output_type": "display_data"
    }
   ],
   "source": [
    "res = []\n",
    "for param in range(1, 30, 1):\n",
    "    model = DecisionTreeRegressor(min_samples_leaf=param, random_state=7)\n",
    "\n",
    "    model.fit(features_train, target_train)\n",
    "    pred_train = model.predict(features_train)\n",
    "    pred_test = model.predict(features_test)\n",
    "\n",
    "    res.append([param, mean_absolute_error(pred_train, target_train), mean_absolute_error(pred_test, target_test)])\n",
    "    \n",
    "res_pd = pd.DataFrame(res, columns=['min_samples_leaf', 'mae_train', 'mae_test'])\n",
    "\n",
    "res_pd.set_index('min_samples_leaf')['mae_train'].plot(label='mae_train')\n",
    "res_pd.set_index('min_samples_leaf')['mae_test'].plot(label='mae_test')\n",
    "plt.legend()\n",
    "plt.ylabel('MAE');"
   ]
  },
  {
   "cell_type": "code",
   "execution_count": 49,
   "metadata": {},
   "outputs": [
    {
     "data": {
      "text/html": [
       "<div>\n",
       "<style scoped>\n",
       "    .dataframe tbody tr th:only-of-type {\n",
       "        vertical-align: middle;\n",
       "    }\n",
       "\n",
       "    .dataframe tbody tr th {\n",
       "        vertical-align: top;\n",
       "    }\n",
       "\n",
       "    .dataframe thead th {\n",
       "        text-align: right;\n",
       "    }\n",
       "</style>\n",
       "<table border=\"1\" class=\"dataframe\">\n",
       "  <thead>\n",
       "    <tr style=\"text-align: right;\">\n",
       "      <th></th>\n",
       "      <th>min_samples_leaf</th>\n",
       "      <th>mae_train</th>\n",
       "      <th>mae_test</th>\n",
       "    </tr>\n",
       "  </thead>\n",
       "  <tbody>\n",
       "    <tr>\n",
       "      <th>1</th>\n",
       "      <td>2</td>\n",
       "      <td>0.105088</td>\n",
       "      <td>0.462917</td>\n",
       "    </tr>\n",
       "  </tbody>\n",
       "</table>\n",
       "</div>"
      ],
      "text/plain": [
       "   min_samples_leaf  mae_train  mae_test\n",
       "1                 2   0.105088  0.462917"
      ]
     },
     "execution_count": 49,
     "metadata": {},
     "output_type": "execute_result"
    }
   ],
   "source": [
    "res_pd[res_pd['mae_test'] == res_pd['mae_test'].min()]"
   ]
  },
  {
   "cell_type": "markdown",
   "metadata": {},
   "source": [
    "Увеличим число деревьев"
   ]
  },
  {
   "cell_type": "code",
   "execution_count": 50,
   "metadata": {},
   "outputs": [
    {
     "name": "stdout",
     "output_type": "stream",
     "text": [
      "Ошибка на обучающей выборке: 0.23516025259144524\n",
      "Ошибка на валидационной выборке: 0.4569750000000001\n"
     ]
    }
   ],
   "source": [
    "model = RandomForestRegressor(n_estimators=5, min_samples_leaf=2, random_state=7)\n",
    "\n",
    "model.fit(features_train, target_train)\n",
    "pred_train = model.predict(features_train)\n",
    "pred_test = model.predict(features_test)\n",
    "\n",
    "print(f'Ошибка на обучающей выборке: {mean_absolute_error(pred_train, target_train)}')\n",
    "print(f'Ошибка на валидационной выборке: {mean_absolute_error(pred_test, target_test)}')"
   ]
  },
  {
   "cell_type": "markdown",
   "metadata": {},
   "source": [
    "Попробуем обучить много деревьев"
   ]
  },
  {
   "cell_type": "code",
   "execution_count": 51,
   "metadata": {},
   "outputs": [
    {
     "data": {
      "image/png": "[encoded data removed]",
      "text/plain": [
       "<Figure size 640x480 with 1 Axes>"
      ]
     },
     "metadata": {},
     "output_type": "display_data"
    }
   ],
   "source": [
    "res = []\n",
    "for n_tree in range(1, 40):\n",
    "    model = RandomForestRegressor(n_estimators=n_tree, min_samples_leaf=2, random_state=7)\n",
    "\n",
    "    model.fit(features_train, target_train)\n",
    "    pred_train = model.predict(features_train)\n",
    "    pred_test = model.predict(features_test)\n",
    "\n",
    "    res.append([n_tree, mean_absolute_error(pred_train, target_train), mean_absolute_error(pred_test, target_test)])\n",
    "\n",
    "res_pd = pd.DataFrame(res, columns=['n_tree', 'mae_train', 'mae_test'])\n",
    "\n",
    "res_pd.set_index('n_tree')['mae_train'].plot(label='mae_train')\n",
    "res_pd.set_index('n_tree')['mae_test'].plot(label='mae_test')\n",
    "plt.legend()\n",
    "plt.ylabel('MAE');"
   ]
  }
 ],
 "metadata": {
  "kernelspec": {
   "display_name": "Python 3 (ipykernel)",
   "language": "python",
   "name": "python3"
  },
  "language_info": {
   "codemirror_mode": {
    "name": "ipython",
    "version": 3
   },
   "file_extension": ".py",
   "mimetype": "text/x-python",
   "name": "python",
   "nbconvert_exporter": "python",
   "pygments_lexer": "ipython3",
   "version": "3.11.5"
  },
  "toc": {
   "base_numbering": 1,
   "nav_menu": {},
   "number_sections": false,
   "sideBar": false,
   "skip_h1_title": false,
   "title_cell": "Table of Contents",
   "title_sidebar": "Contents",
   "toc_cell": false,
   "toc_position": {},
   "toc_section_display": false,
   "toc_window_display": false
  }
 },
 "nbformat": 4,
 "nbformat_minor": 4
}
